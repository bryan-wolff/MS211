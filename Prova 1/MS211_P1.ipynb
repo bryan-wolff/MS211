{
  "nbformat": 4,
  "nbformat_minor": 0,
  "metadata": {
    "colab": {
      "name": "MS211 - P1.ipynb",
      "provenance": [],
      "collapsed_sections": []
    },
    "kernelspec": {
      "name": "python3",
      "display_name": "Python 3"
    },
    "language_info": {
      "name": "python"
    }
  },
  "cells": [
    {
      "cell_type": "markdown",
      "metadata": {
        "id": "DnCHsFVI4Kuz"
      },
      "source": [
        "# **MS211 - Cálculo Numérico**\n",
        "## Prova 1\n",
        "### Bryan Wolff - RA: 214095\n",
        "### Wesna Araujo - RA: 225843"
      ]
    },
    {
      "cell_type": "markdown",
      "metadata": {
        "id": "2flpp3lk3oSr"
      },
      "source": [
        "# **Rotinas**"
      ]
    },
    {
      "cell_type": "code",
      "metadata": {
        "id": "7eBm8GnpGy7j"
      },
      "source": [
        "#@title Importação de Bibliotecas\n",
        "import math\n",
        "import numpy as np\n",
        "import matplotlib.pyplot as plt "
      ],
      "execution_count": null,
      "outputs": []
    },
    {
      "cell_type": "code",
      "metadata": {
        "id": "_W4_XlvnrvFc"
      },
      "source": [
        "#@title Rotinas implementadas para graficar\n",
        "\n",
        "#plota gráfico\n",
        "def plot(x, y, title, x_name, y_name):\n",
        "    plt.figure() \n",
        "    plt.plot(x,y, color = '#0ccf08')\n",
        "    plt.title(title)\n",
        "    plt.xlabel(x_name, fontsize=10)\n",
        "    plt.ylabel(y_name, fontsize=10)\n",
        "    plt.grid(True)\n",
        "    plt.show()\n",
        "\n",
        "#plota 2 gráficos em uma figure\n",
        "def plot2(x1, y1, x2, y2, x_name, y_name):\n",
        "    plt.figure() \n",
        "    plt.plot(x1,y1, label='f(x)')\n",
        "    plt.scatter(x2, y2, c ='red', label='Aproximação')\n",
        "    plt.xlabel(x_name, fontsize=10)\n",
        "    plt.ylabel(y_name, fontsize=10)\n",
        "    plt.legend(loc='lower left')\n",
        "    plt.grid(True)\n",
        "    plt.show()"
      ],
      "execution_count": null,
      "outputs": []
    },
    {
      "cell_type": "markdown",
      "metadata": {
        "id": "oPh0V1JlGNjE"
      },
      "source": [
        "##Método da Bissecção\n"
      ]
    },
    {
      "cell_type": "code",
      "metadata": {
        "id": "F0Kh5nkVnjfo"
      },
      "source": [
        "#Disponivel em https://www.geeksforgeeks.org/program-for-bisection-method/\n",
        "\n",
        "def bisection(a = 1, b = 1.5, e = 0.001, func = f):\n",
        "    x_v = []\n",
        "    step = 0\n",
        "    if (func(a) * func(b) >= 0):\n",
        "        print(\"You have not assumed right a and b\\n\")\n",
        "        return\n",
        "    c = a\n",
        "    while ((b-a) >= e):\n",
        "        step += 1\n",
        "        # Find middle point\n",
        "        c = (a+b)/2\n",
        "        x_v.append(c)\n",
        "        # Check if middle point is root\n",
        "        if (func(c) == 0.0):\n",
        "            break\n",
        "        # Decide the side to repeat the steps\n",
        "        if (func(c)*func(a) < 0):\n",
        "            b = c\n",
        "        else:\n",
        "            a = c\n",
        "    print(\"Quantidade de iterações: {}\".format(step))\n",
        "    print(\"Valor da raíz é: {:.8f}\".format(c))\n",
        "    return x_v"
      ],
      "execution_count": null,
      "outputs": []
    },
    {
      "cell_type": "markdown",
      "metadata": {
        "id": "uXcykUhwGept"
      },
      "source": [
        "##Método de Newton-Raphson"
      ]
    },
    {
      "cell_type": "code",
      "metadata": {
        "id": "GCYz5HD_GhQz"
      },
      "source": [
        "#disponivel em https://www.geeksforgeeks.org/program-for-newton-raphson-method/\n",
        "\n",
        "def newtonRaphson(x = 1, e = 0.001, func = f):\n",
        "  vetor = []\n",
        "  qtd_iter = 0\n",
        "  h = func(x)/dev(x)\n",
        "  while abs(h) >= e:\n",
        "    h = func(x)/dev(x)\n",
        "    x = x - h\n",
        "    qtd_iter += 1\n",
        "    vetor.append(x)\n",
        "  print(\"Valor da raíz é: {:.8f}\".format(x))\n",
        "  print(\"Quantidade de iterações: {}\".format(qtd_iter))\n",
        "  return vetor\n"
      ],
      "execution_count": null,
      "outputs": []
    },
    {
      "cell_type": "markdown",
      "metadata": {
        "id": "cIEKiZwypH2V"
      },
      "source": [
        "#**Questão 1**"
      ]
    },
    {
      "cell_type": "code",
      "metadata": {
        "id": "71O3IghyIRIs"
      },
      "source": [
        "#@title Função do Problema\n",
        "def f(x):\n",
        "  return np.sin((x-0.23)**2) - np.exp(x**2)+ 3*x\n",
        "\n",
        "raiz_1 = 0.37704867390270\n",
        "raiz_2 = 1.22881003941754\n",
        "\n",
        "def dev(x):\n",
        "  return np.cos((x-0.23)**2)*2*(x-0.23)-(np.exp(x**2)*2*x)+3"
      ],
      "execution_count": null,
      "outputs": []
    },
    {
      "cell_type": "code",
      "metadata": {
        "colab": {
          "base_uri": "https://localhost:8080/",
          "height": 295
        },
        "id": "iE8iV2smrBwS",
        "outputId": "0d937395-5474-4129-e7bf-9b95821f6bf1"
      },
      "source": [
        "#@title Gráfico da função f(x)\n",
        "\n",
        "x_vetor = np.linspace(-2,2,100)\n",
        "y_vetor = [f(i) for i in x_vetor]\n",
        "plot(x_vetor,y_vetor, \"Função f(x)\", \"x\", \"f(x)\")"
      ],
      "execution_count": null,
      "outputs": [
        {
          "output_type": "display_data",
          "data": {
            "image/png": "[encoded data removed]",
            "text/plain": [
              "<Figure size 432x288 with 1 Axes>"
            ]
          },
          "metadata": {
            "tags": [],
            "needs_background": "light"
          }
        }
      ]
    },
    {
      "cell_type": "code",
      "metadata": {
        "id": "-vQJ5E6idt3c"
      },
      "source": [
        "x_vetor = np.linspace(-1,2,100)\n",
        "y_vetor = [f(i) for i in x_vetor]"
      ],
      "execution_count": null,
      "outputs": []
    },
    {
      "cell_type": "markdown",
      "metadata": {
        "id": "fge-xw7KkS-4"
      },
      "source": [
        "##**Buscando uma Raiz**"
      ]
    },
    {
      "cell_type": "markdown",
      "metadata": {
        "id": "IwCzA5Skkcqk"
      },
      "source": [
        "### *Método da Bissecção*"
      ]
    },
    {
      "cell_type": "code",
      "metadata": {
        "colab": {
          "base_uri": "https://localhost:8080/",
          "height": 313
        },
        "id": "QNBp1G_soQOi",
        "outputId": "48fbb637-d467-4cf0-b299-346350bd4c68"
      },
      "source": [
        "x_bisection = bisection()\n",
        "y_bisection = [f(i) for i in x_bisection]\n",
        "\n",
        "plot2(x_vetor,y_vetor,x_bisection,y_bisection, \"x\", \"f(x)\")"
      ],
      "execution_count": null,
      "outputs": [
        {
          "output_type": "stream",
          "text": [
            "Quantidade de iterações: 9\n",
            "Valor da raíz é: 1.22949219\n"
          ],
          "name": "stdout"
        },
        {
          "output_type": "display_data",
          "data": {
            "image/png": "[encoded data removed]",
            "text/plain": [
              "<Figure size 432x288 with 1 Axes>"
            ]
          },
          "metadata": {
            "tags": [],
            "needs_background": "light"
          }
        }
      ]
    },
    {
      "cell_type": "markdown",
      "metadata": {
        "id": "-2M7iJ74kgR-"
      },
      "source": [
        "### *Método de Newton-Raphson*"
      ]
    },
    {
      "cell_type": "code",
      "metadata": {
        "colab": {
          "base_uri": "https://localhost:8080/",
          "height": 313
        },
        "id": "yHYVIC96bAFK",
        "outputId": "37650948-d4d1-4669-9923-175440f77581"
      },
      "source": [
        "x_newtonRaphson = newtonRaphson()\n",
        "y_newtonRaphson = [f(i) for i in x_newtonRaphson]\n",
        "\n",
        "plot2(x_vetor,y_vetor,x_newtonRaphson,y_newtonRaphson, \"x\", \"f(x)\")"
      ],
      "execution_count": null,
      "outputs": [
        {
          "output_type": "stream",
          "text": [
            "Valor da raíz é: 1.22881004\n",
            "Quantidade de iterações: 7\n"
          ],
          "name": "stdout"
        },
        {
          "output_type": "display_data",
          "data": {
            "image/png": "[encoded data removed]",
            "text/plain": [
              "<Figure size 432x288 with 1 Axes>"
            ]
          },
          "metadata": {
            "tags": [],
            "needs_background": "light"
          }
        }
      ]
    },
    {
      "cell_type": "markdown",
      "metadata": {
        "id": "65lKlVAakxpf"
      },
      "source": [
        "###**Verificando as raízes obtidas de cada método**"
      ]
    },
    {
      "cell_type": "markdown",
      "metadata": {
        "id": "zhFpfkUnTI0X"
      },
      "source": [
        "#### *Método da Bissecção*\n"
      ]
    },
    {
      "cell_type": "code",
      "metadata": {
        "colab": {
          "base_uri": "https://localhost:8080/"
        },
        "id": "ecDwyeA2k3yc",
        "outputId": "a7da5658-bcbd-45e5-914f-5a7461a19e7e"
      },
      "source": [
        "print(\"O valor de f(x) para a raíz x = {:.8f} obtida neste método é {:.8f}\".format(x_bisection[-1],f(x_bisection[-1])))\n",
        "\n",
        "#erro relativo\n",
        "erro_b = abs((raiz_2 - x_bisection[-1])/raiz_2)\n",
        "print(\"Erro relativo da raiz é de: {:%}\".format(erro_b))"
      ],
      "execution_count": null,
      "outputs": [
        {
          "output_type": "stream",
          "text": [
            "O valor de f(x) para a raíz x = 1.22949219 obtida neste método é -0.00481227\n",
            "Erro relativo da raiz é de: 0.055513%\n"
          ],
          "name": "stdout"
        }
      ]
    },
    {
      "cell_type": "markdown",
      "metadata": {
        "id": "Wgb7JgT3TcJf"
      },
      "source": [
        "#### *Método de Newton-Raphson*"
      ]
    },
    {
      "cell_type": "code",
      "metadata": {
        "colab": {
          "base_uri": "https://localhost:8080/"
        },
        "id": "RdmlT5yKk7Jr",
        "outputId": "ce3bc720-b1bf-401d-cdf1-ba7cb4028dcb"
      },
      "source": [
        "print(\"O valor de f(x) para a raíz x = {:.8f} obtida neste método é {:.8f}\".format(x_newtonRaphson[-1],f(x_newtonRaphson[-1])))\n",
        "\n",
        "#erro relativo\n",
        "erro_n = abs((raiz_2 - x_newtonRaphson[-1])/raiz_2)\n",
        "print(\"Erro relativo da raiz é de: {:%}\".format(erro_n))\n",
        "print(\"erro = \", erro_n)"
      ],
      "execution_count": null,
      "outputs": [
        {
          "output_type": "stream",
          "text": [
            "O valor de f(x) para a raíz x = 1.22881004 obtida neste método é -0.00000001\n",
            "Erro relativo da raiz é de: 0.000000%\n",
            "erro =  9.811987443161942e-10\n"
          ],
          "name": "stdout"
        }
      ]
    },
    {
      "cell_type": "markdown",
      "metadata": {
        "id": "iFQ0Xtzehr_E"
      },
      "source": [
        "##**Buscando outras raízes**"
      ]
    },
    {
      "cell_type": "markdown",
      "metadata": {
        "id": "kRO2J-iqk0gx"
      },
      "source": [
        "### *Método da Bissecção*"
      ]
    },
    {
      "cell_type": "code",
      "metadata": {
        "colab": {
          "base_uri": "https://localhost:8080/",
          "height": 313
        },
        "id": "NEHbOEmnhzfl",
        "outputId": "7efe2f30-b2f0-4a9c-b65c-540e1cb5885e"
      },
      "source": [
        "x_newbisection = bisection(0,1)\n",
        "y_newbisection = [f(i) for i in x_newbisection]\n",
        "plot2(x_vetor,y_vetor,x_newbisection,y_newbisection, \"x\", \"f(x)\")"
      ],
      "execution_count": null,
      "outputs": [
        {
          "output_type": "stream",
          "text": [
            "Quantidade de iterações: 10\n",
            "Valor da raíz é: 0.37792969\n"
          ],
          "name": "stdout"
        },
        {
          "output_type": "display_data",
          "data": {
            "image/png": "[encoded data removed]",
            "text/plain": [
              "<Figure size 432x288 with 1 Axes>"
            ]
          },
          "metadata": {
            "tags": [],
            "needs_background": "light"
          }
        }
      ]
    },
    {
      "cell_type": "markdown",
      "metadata": {
        "id": "ZqZGU98dk51E"
      },
      "source": [
        "### *Método de Newton-Raphson*"
      ]
    },
    {
      "cell_type": "code",
      "metadata": {
        "colab": {
          "base_uri": "https://localhost:8080/",
          "height": 313
        },
        "id": "auU_jAZwhzwb",
        "outputId": "f3215e86-254c-49bb-e242-ef9c5b068f53"
      },
      "source": [
        "x_newnewtonRaphson = newtonRaphson(0)\n",
        "y_newnewtonRaphson = [f(i) for i in x_newnewtonRaphson]\n",
        "\n",
        "plot2(x_vetor,y_vetor,x_newnewtonRaphson,y_newnewtonRaphson, \"x\", \"f(x)\")"
      ],
      "execution_count": null,
      "outputs": [
        {
          "output_type": "stream",
          "text": [
            "Valor da raíz é: 0.37704867\n",
            "Quantidade de iterações: 3\n"
          ],
          "name": "stdout"
        },
        {
          "output_type": "display_data",
          "data": {
            "image/png": "[encoded data removed]",
            "text/plain": [
              "<Figure size 432x288 with 1 Axes>"
            ]
          },
          "metadata": {
            "tags": [],
            "needs_background": "light"
          }
        }
      ]
    },
    {
      "cell_type": "markdown",
      "metadata": {
        "id": "D02TZ06NjVKn"
      },
      "source": [
        "###**Verificando as novas raízes obtidas de cada método**"
      ]
    },
    {
      "cell_type": "markdown",
      "metadata": {
        "id": "JfNjO6aKjsJE"
      },
      "source": [
        "#### *Método da Bissecção*\n"
      ]
    },
    {
      "cell_type": "code",
      "metadata": {
        "colab": {
          "base_uri": "https://localhost:8080/"
        },
        "id": "ClqQI62SjsJF",
        "outputId": "52716daa-1e1b-4043-a394-43d1165ecb86"
      },
      "source": [
        "print(\"O valor de f(x) para a raíz x = {:.8f} obtida neste método é {:.8f}\".format(x_newbisection[-1],f(x_newbisection[-1])))\n",
        "\n",
        "#erro relativo\n",
        "erro_b = abs((raiz_1 - x_newbisection[-1])/raiz_1)\n",
        "print(\"Erro relativo da raiz é de: {:%}\".format(erro_b))"
      ],
      "execution_count": null,
      "outputs": [
        {
          "output_type": "stream",
          "text": [
            "O valor de f(x) para a raíz x = 0.37792969 obtida neste método é 0.00213585\n",
            "Erro relativo da raiz é de: 0.233660%\n"
          ],
          "name": "stdout"
        }
      ]
    },
    {
      "cell_type": "markdown",
      "metadata": {
        "id": "JImaYsy5jvjd"
      },
      "source": [
        "#### *Método de Newton-Raphson*"
      ]
    },
    {
      "cell_type": "code",
      "metadata": {
        "colab": {
          "base_uri": "https://localhost:8080/"
        },
        "id": "fjmV0pL0jvje",
        "outputId": "ad6c68ef-81b2-4d30-8b1a-a7dd160742c3"
      },
      "source": [
        "print(\"O valor de f(x) para a raíz x = {:.8f} obtida neste método é {:.8f}\".format(x_newnewtonRaphson[-1],f(x_newnewtonRaphson[-1])))\n",
        "\n",
        "#erro relativo\n",
        "erro_n = abs((raiz_1 - x_newnewtonRaphson[-1])/raiz_1)\n",
        "print(\"Erro relativo da raiz é de: {:%}\".format(erro_n))\n",
        "print(\"erro = \", erro_n)"
      ],
      "execution_count": null,
      "outputs": [
        {
          "output_type": "stream",
          "text": [
            "O valor de f(x) para a raíz x = 0.37704867 obtida neste método é -0.00000000\n",
            "Erro relativo da raiz é de: 0.000000%\n",
            "erro =  6.571701292202614e-12\n"
          ],
          "name": "stdout"
        }
      ]
    },
    {
      "cell_type": "markdown",
      "metadata": {
        "id": "jz92rkbNl6Sk"
      },
      "source": [
        "#**Questão 2**"
      ]
    },
    {
      "cell_type": "code",
      "metadata": {
        "colab": {
          "base_uri": "https://localhost:8080/"
        },
        "id": "H4xLUzrsl-NE",
        "outputId": "8462f1c8-caa9-48f7-d3d3-6fa2d917bd0c"
      },
      "source": [
        "def f2(x):\n",
        "  return x + np.exp(-x**2)\n",
        "\n",
        "raiz_f2 = -0.652918640419205\n",
        "\n",
        "x_vetor = np.linspace(-2.5,2.5,1000)\n",
        "y_vetor = [f2(i) for i in x_vetor]\n",
        "plot(x_vetor,y_vetor, \"Função f(x)\", \"x\", \"f(x)\")\n"
      ],
      "execution_count": null,
      "outputs": [
        {
          "output_type": "display_data",
          "data": {
            "image/png": "[encoded data removed]",
            "text/plain": [
              "<Figure size 432x288 with 1 Axes>"
            ]
          },
          "metadata": {
            "tags": [],
            "needs_background": "light"
          }
        }
      ]
    },
    {
      "cell_type": "markdown",
      "metadata": {
        "id": "wiH-t0ORmokd"
      },
      "source": [
        "##**Método de Newton-Raphson**"
      ]
    },
    {
      "cell_type": "code",
      "metadata": {
        "colab": {
          "base_uri": "https://localhost:8080/"
        },
        "id": "LJkX71O4mmjO",
        "outputId": "a7896bd8-dcc7-45f2-cca7-782cbe9b1bc7"
      },
      "source": [
        "x_newtonRaphsonf2 = newtonRaphson(x=-0.5, func = f2)\n",
        "y_newtonRaphsonf2 = [f2(i) for i in x_newtonRaphsonf2]\n",
        "plot2(x_vetor,y_vetor,x_newtonRaphsonf2,y_newtonRaphsonf2, \"x\", \"f(x)\")"
      ],
      "execution_count": null,
      "outputs": [
        {
          "output_type": "stream",
          "text": [
            "Valor da raíz é: -0.65207963\n",
            "Quantidade de iterações: 7\n"
          ],
          "name": "stdout"
        },
        {
          "output_type": "display_data",
          "data": {
            "image/png": "[encoded data removed]",
            "text/plain": [
              "<Figure size 432x288 with 1 Axes>"
            ]
          },
          "metadata": {
            "tags": [],
            "needs_background": "light"
          }
        }
      ]
    },
    {
      "cell_type": "code",
      "metadata": {
        "colab": {
          "base_uri": "https://localhost:8080/"
        },
        "id": "tTyPV7HWngAQ",
        "outputId": "1bbb400f-a13f-4670-98ce-b59b4cb8d511"
      },
      "source": [
        "print(\"O valor de f(x) para a raíz x = {:.8f} obtida neste método é {:.8f}\".format(x_newtonRaphsonf2[-1],f2(x_newtonRaphsonf2[-1])))\n",
        "\n",
        "erro_n = abs((raiz_f2 - x_newtonRaphsonf2[-1])/raiz_f2)\n",
        "print(\"Erro relativo da raiz é de: {:%}\".format(erro_n))\n",
        "print(\"erro = \", erro_n)"
      ],
      "execution_count": null,
      "outputs": [
        {
          "output_type": "stream",
          "text": [
            "O valor de f(x) para a raíz x = -0.65207963 obtida neste método é 0.00155429\n",
            "Erro relativo da raiz é de: 0.128501%\n",
            "erro =  0.0012850134771171097\n"
          ],
          "name": "stdout"
        }
      ]
    },
    {
      "cell_type": "markdown",
      "metadata": {
        "id": "nzm73UyropEG"
      },
      "source": [
        "#**Questão 3**"
      ]
    },
    {
      "cell_type": "markdown",
      "metadata": {
        "id": "tTdc98Nyor_9"
      },
      "source": [
        "Utilizaiamos o método da bissecção (sempre encontra) e/ou de Newton (mais preciso/refinado. Método da pto fixo não utilizariamos devido a necessidade de reescrever a função."
      ]
    },
    {
      "cell_type": "markdown",
      "metadata": {
        "id": "Y0lcv2Wg8wlx"
      },
      "source": [
        "#**Questão 4**"
      ]
    },
    {
      "cell_type": "code",
      "metadata": {
        "id": "5ZDrX08o8_7B"
      },
      "source": [
        "'''\n",
        "%% Gauss Seidel Method\n",
        "%% Solution of x in Ax=b using Gauss Seidel Method\n",
        "% * _*Initailize 'A' 'b' & intial guess 'x'*_\n",
        "%%\n",
        "%\n",
        "n=251;\n",
        "%\n",
        "% Matriz\n",
        "m=sparse(n);\n",
        "for i=1:n\n",
        "m(i,i) = 2.35;\n",
        "endfor\n",
        "for i=1:n-1\n",
        "m(i,i+1) = -0.78;\n",
        "m(i+1,i) = -0.41;\n",
        "endfor\n",
        "for i=1:n-25\n",
        "m(i,i+25) = -0.51;\n",
        "m(i+25,i) = -0.28;\n",
        "endfor\n",
        "%\n",
        "% Termo independente\n",
        "for i=1:2:n\n",
        "b(i) = 1.5;\n",
        "endfor\n",
        "for i=2:2:n-1\n",
        "b(i)=0.75;\n",
        "endfor\n",
        "b=b';\n",
        "\n",
        "%x = m\\b'\n",
        "\n",
        "A = m;\n",
        "C = b;% constants vector\n",
        "n = length(C);\n",
        "X = zeros(n,1);\n",
        "Error_eval = ones(n,1);\n",
        "%% Check if the matrix A is diagonally dominant\n",
        "for i = 1:n\n",
        "    j = 1:n;\n",
        "    j(i) = [];\n",
        "    B = abs(A(i,j));\n",
        "    Check(i) = abs(A(i,i)) - sum(B); % Is the diagonal value greater than the remaining row values combined?\n",
        "    if Check(i) < 0\n",
        "        fprintf('The matrix is not strictly diagonally dominant at row %2i\\n\\n',i)\n",
        "    end\n",
        "end\n",
        "%% Start the Iterative method\n",
        "iteration = 0;\n",
        "while max(Error_eval) > 0.001\n",
        "    iteration = iteration + 1;\n",
        "    Z = X;  % save current values to calculate error later\n",
        "    for i = 1:n\n",
        "        j = 1:n; % define an array of the coefficients' elements\n",
        "        j(i) = [];  % eliminate the unknow's coefficient from the remaining coefficients\n",
        "        Xtemp = X;  % copy the unknows to a new variable\n",
        "        Xtemp(i) = [];  % eliminate the unknown under question from the set of values\n",
        "        X(i) = (C(i) - sum(A(i,j) * Xtemp)) / A(i,i);\n",
        "    end\n",
        "    Xsolution(:,iteration) = X;\n",
        "    Error_eval = sqrt((X - Z).^2);\n",
        "end\n",
        "%% Display Results\n",
        "GaussSeidelTable = [1:iteration;Xsolution]'\n",
        "MaTrIx = [A X C]\n",
        "\n",
        "display(x)\n",
        "'''"
      ],
      "execution_count": null,
      "outputs": []
    },
    {
      "cell_type": "markdown",
      "metadata": {
        "id": "VsFMzreb9GTx"
      },
      "source": [
        "#**Questão 5**"
      ]
    },
    {
      "cell_type": "markdown",
      "metadata": {
        "id": "GpQPZhTV9LSx"
      },
      "source": [
        "#**Questão 6**"
      ]
    },
    {
      "cell_type": "markdown",
      "metadata": {
        "id": "4mDAcF2A9RQh"
      },
      "source": [
        "#**Questão 7**"
      ]
    },
    {
      "cell_type": "markdown",
      "metadata": {
        "id": "TWSb56-k9S7h"
      },
      "source": [
        "#**Questão 8**"
      ]
    },
    {
      "cell_type": "markdown",
      "metadata": {
        "id": "2IdG0G_A936R"
      },
      "source": [
        "Erros nas representações de números reais. Aritmética de ponto flutuante.\n",
        "\n",
        "\n",
        "\n"
      ]
    }
  ]
}