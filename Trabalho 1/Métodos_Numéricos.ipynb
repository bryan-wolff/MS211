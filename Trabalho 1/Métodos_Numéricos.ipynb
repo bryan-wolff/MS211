{
  "nbformat": 4,
  "nbformat_minor": 0,
  "metadata": {
    "colab": {
      "name": "Métodos Numéricos.ipynb",
      "provenance": [],
      "collapsed_sections": [
        "uXcykUhwGept"
      ],
      "authorship_tag": "ABX9TyOSzv1a4uBoLeTslzDauX6x",
      "include_colab_link": true
    },
    "kernelspec": {
      "name": "python3",
      "display_name": "Python 3"
    },
    "language_info": {
      "name": "python"
    }
  },
  "cells": [
    {
      "cell_type": "markdown",
      "metadata": {
        "id": "view-in-github",
        "colab_type": "text"
      },
      "source": [
        "<a href=\"https://colab.research.google.com/github/bryan-wolff/MS211/blob/main/Trabalho%201/M%C3%A9todos_Num%C3%A9ricos.ipynb\" target=\"_parent\"><img src=\"https://colab.research.google.com/assets/colab-badge.svg\" alt=\"Open In Colab\"/></a>"
      ]
    },
    {
      "cell_type": "markdown",
      "metadata": {
        "id": "DnCHsFVI4Kuz"
      },
      "source": [
        "# **MS211 - Cálculo Numérico**\n",
        "## Trabalho 1 - Métodos Numéricos\n",
        "### Bryan Wolff - RA: 214095\n",
        "### Wesna Araujo - RA: 225843"
      ]
    },
    {
      "cell_type": "markdown",
      "metadata": {
        "id": "2flpp3lk3oSr"
      },
      "source": [
        "# Modelando o Problema"
      ]
    },
    {
      "cell_type": "code",
      "metadata": {
        "id": "7eBm8GnpGy7j"
      },
      "source": [
        "#@title Importação de Bibliotecas\n",
        "import math\n",
        "import numpy as np\n",
        "import matplotlib.pyplot as plt "
      ],
      "execution_count": null,
      "outputs": []
    },
    {
      "cell_type": "code",
      "metadata": {
        "id": "71O3IghyIRIs"
      },
      "source": [
        "#@title Função do Problema\n",
        "def f(x):\n",
        "  return x**3 -3*x**2 + 2.4"
      ],
      "execution_count": null,
      "outputs": []
    },
    {
      "cell_type": "code",
      "metadata": {
        "id": "_W4_XlvnrvFc"
      },
      "source": [
        "#@title Rotinas implementadas para graficar\n",
        "\n",
        "#plota 1 gráfico\n",
        "def plot(x, y, title, x_name, y_name):\n",
        "    plt.figure() \n",
        "    plt.plot(x,y)\n",
        "    plt.title(title)\n",
        "    plt.xlabel(x_name, fontsize=10)\n",
        "    plt.ylabel(y_name, fontsize=10)\n",
        "    plt.grid(True)\n",
        "    plt.show()\n",
        "\n",
        "#plota 2 gráficos em uma figure\n",
        "def plot2(x1, y1, x2, y2, x_name, y_name):\n",
        "    plt.figure() \n",
        "    plt.plot(x1,y1, label='f(x)')\n",
        "    plt.scatter(x2, y2, c ='red', label='Aproximação')\n",
        "    plt.xlabel(x_name, fontsize=10)\n",
        "    plt.ylabel(y_name, fontsize=10)\n",
        "    plt.legend(loc='upper right')\n",
        "    plt.grid(True)\n",
        "    plt.show()"
      ],
      "execution_count": null,
      "outputs": []
    },
    {
      "cell_type": "code",
      "metadata": {
        "colab": {
          "base_uri": "https://localhost:8080/",
          "height": 295
        },
        "id": "iE8iV2smrBwS",
        "outputId": "7720e99c-809d-4518-bcfa-de00153ca68b"
      },
      "source": [
        "#@title Gráfico da função f(x)\n",
        "\n",
        "x_vetor = np.linspace(-1,3,50)\n",
        "y_vetor = [f(i) for i in x_vetor]\n",
        "plot(x_vetor,y_vetor, \"Função f(x)\", \"x\", \"f(x)\")"
      ],
      "execution_count": null,
      "outputs": [
        {
          "output_type": "display_data",
          "data": {
            "image/png": "[encoded data removed]",
            "text/plain": [
              "<Figure size 432x288 with 1 Axes>"
            ]
          },
          "metadata": {
            "tags": [],
            "needs_background": "light"
          }
        }
      ]
    },
    {
      "cell_type": "code",
      "metadata": {
        "id": "BIYtUCFn1GOZ"
      },
      "source": [
        "x_vetor = np.linspace(2.2,3,50)\n",
        "y_vetor = [f(i) for i in x_vetor]"
      ],
      "execution_count": null,
      "outputs": []
    },
    {
      "cell_type": "markdown",
      "metadata": {
        "id": "oPh0V1JlGNjE"
      },
      "source": [
        "#Método da Bissecção\n"
      ]
    },
    {
      "cell_type": "code",
      "metadata": {
        "id": "F0Kh5nkVnjfo"
      },
      "source": [
        "#Disponivel em https://www.geeksforgeeks.org/program-for-bisection-method/\n",
        "\n",
        "def bisection(a = 2, b = 3, e = 0.001, func = f):\n",
        "    x_v = []\n",
        "    step = 0\n",
        "    if (func(a) * func(b) >= 0):\n",
        "        print(\"You have not assumed right a and b\\n\")\n",
        "        return\n",
        "    c = a\n",
        "    while ((b-a) >= e):\n",
        "        step += 1\n",
        "        # Find middle point\n",
        "        c = (a+b)/2\n",
        "        x_v.append(c)\n",
        "        # Check if middle point is root\n",
        "        if (func(c) == 0.0):\n",
        "            break\n",
        "        # Decide the side to repeat the steps\n",
        "        if (func(c)*func(a) < 0):\n",
        "            b = c\n",
        "        else:\n",
        "            a = c\n",
        "    print(\"Quantidade de interações: {}\".format(step))\n",
        "    print(\"Valor da raíz é: {:.5f}\".format(c))\n",
        "    return x_v"
      ],
      "execution_count": null,
      "outputs": []
    },
    {
      "cell_type": "code",
      "metadata": {
        "colab": {
          "base_uri": "https://localhost:8080/",
          "height": 313
        },
        "id": "QNBp1G_soQOi",
        "outputId": "c40116c7-6985-4b4b-e6ca-a47489640c09"
      },
      "source": [
        "x_bisection = bisection()\n",
        "y_bisection = [f(i) for i in x_bisection]\n",
        "plot2(x_vetor,y_vetor,x_bisection,y_bisection, \"x\", \"f(x)\")"
      ],
      "execution_count": null,
      "outputs": [
        {
          "output_type": "stream",
          "text": [
            "Quantidade de interações: 10\n",
            "Valor da raíz é: 2.66113\n"
          ],
          "name": "stdout"
        },
        {
          "output_type": "display_data",
          "data": {
            "image/png": "[encoded data removed]",
            "text/plain": [
              "<Figure size 432x288 with 1 Axes>"
            ]
          },
          "metadata": {
            "tags": [],
            "needs_background": "light"
          }
        }
      ]
    },
    {
      "cell_type": "code",
      "metadata": {
        "colab": {
          "base_uri": "https://localhost:8080/",
          "height": 312
        },
        "id": "qL8VQhL4tqHh",
        "outputId": "c580d092-402f-4578-fae6-895028885871"
      },
      "source": [
        "\n",
        "plot(x_bisection, y_bisection, \"Função f(x)\", \"x\", \"f(x)\")"
      ],
      "execution_count": null,
      "outputs": [
        {
          "output_type": "stream",
          "text": [
            "[]\n"
          ],
          "name": "stdout"
        },
        {
          "output_type": "display_data",
          "data": {
            "image/png": "[encoded data removed]",
            "text/plain": [
              "<Figure size 432x288 with 1 Axes>"
            ]
          },
          "metadata": {
            "tags": [],
            "needs_background": "light"
          }
        }
      ]
    },
    {
      "cell_type": "markdown",
      "metadata": {
        "id": "csaMG4UwGTtz"
      },
      "source": [
        "#Método da Posição Falsa"
      ]
    },
    {
      "cell_type": "code",
      "metadata": {
        "id": "JOpfLPYYjF1Y"
      },
      "source": [
        "#Disponível em: https://www.codesansar.com/numerical-methods/false-position-method-python-program.htm\n",
        "# Implementing False Position Method\n",
        "#Definir um intervalo [x0,x1] e um erro e antes de chamar o metodo\n",
        "def falsePosition(x0,x1,e):\n",
        "    vetor = []\n",
        "    # Checking Correctness of initial guess values and false positioning\n",
        "    if f(x0) * f(x1) > 0.0:\n",
        "      print('Given guess values do not bracket the root.')\n",
        "      print('Try Again with different guess values.')\n",
        "    else:\n",
        "      step = 1\n",
        "      condition = True\n",
        "      while condition:\n",
        "          x2 = x0 - (x1-x0) * f(x0)/( f(x1) - f(x0) )\n",
        "          if f(x0) * f(x2) < 0:\n",
        "              x1 = x2\n",
        "          else:\n",
        "              x0 = x2\n",
        "\n",
        "          step = step + 1\n",
        "          condition = abs(f(x2)) > e\n",
        "          vetor.append(x2)\n",
        "      print(\"Quantidade de interações: {}\".format(step))\n",
        "      print(\"Valor da raíz é: {:.5f}\".format(x2))\n",
        "      return vetor"
      ],
      "execution_count": null,
      "outputs": []
    },
    {
      "cell_type": "code",
      "metadata": {
        "colab": {
          "base_uri": "https://localhost:8080/",
          "height": 313
        },
        "id": "DrCZMqPPji7H",
        "outputId": "f96c33fb-d5d1-4e70-fd0c-c6a7e3603ac5"
      },
      "source": [
        "x_falsePosition = falsePosition(2,3,0.001)\n",
        "y_falsePosition = [f(i) for i in x_falsePosition]\n",
        "plot2(x_vetor,y_vetor,x_falsePosition,y_falsePosition, \"x\", \"f(x)\")"
      ],
      "execution_count": null,
      "outputs": [
        {
          "output_type": "stream",
          "text": [
            "Quantidade de interações: 8\n",
            "Valor da raíz é: 2.66099\n"
          ],
          "name": "stdout"
        },
        {
          "output_type": "display_data",
          "data": {
            "image/png": "[encoded data removed]",
            "text/plain": [
              "<Figure size 432x288 with 1 Axes>"
            ]
          },
          "metadata": {
            "tags": [],
            "needs_background": "light"
          }
        }
      ]
    },
    {
      "cell_type": "markdown",
      "metadata": {
        "id": "rHhts_apGZur"
      },
      "source": [
        "#Método Ponto Fixo"
      ]
    },
    {
      "cell_type": "code",
      "metadata": {
        "id": "joa85QA1GaPj"
      },
      "source": [
        "#disponivel em: https://www.codesansar.com/numerical-methods/fixed-point-iteration-python-program-output.htm\n",
        "# Re-writing f(x)=0 to x = g(x)\n",
        "def g(x):\n",
        "  return math.sqrt((-2.4)/(x-3))\n",
        "\n",
        "# Implementing Fixed Point Iteration Method\n",
        "def fixedPointIteration(x0 = 2, e = 0.001, N = 20, func = f, funcg = g):\n",
        "    vetor = []\n",
        "    step = 1\n",
        "    flag = 1\n",
        "    condition = True\n",
        "    while condition:\n",
        "        x1 = funcg(x0)\n",
        "        x0 = x1\n",
        "        step = step + 1\n",
        "        if step > N:\n",
        "            flag=0\n",
        "            break\n",
        "        condition = abs(func(x1)) > e\n",
        "        vetor.append(x1)\n",
        "    if flag==1:\n",
        "        print(\"Valor da raíz é: {:.5f}\".format(x1))\n",
        "    else:\n",
        "        print('\\nNot Convergent.')\n",
        "    print(\"Quantidade de interações: {}\".format(step))\n",
        "    return vetor"
      ],
      "execution_count": null,
      "outputs": []
    },
    {
      "cell_type": "code",
      "metadata": {
        "colab": {
          "base_uri": "https://localhost:8080/",
          "height": 313
        },
        "id": "Q7Xix3dQUEiV",
        "outputId": "de41dfe1-46f1-4b9c-8e84-5148e111e6ce"
      },
      "source": [
        "x_fixedPointIteration = fixedPointIteration()\n",
        "y_fixedPointIteration = [f(i) for i in x_fixedPointIteration]\n",
        "\n",
        "x_new = np.linspace(0,2,50)\n",
        "y_new = [f(i) for i in x_vetor]\n",
        "\n",
        "plot2(x_new,y_new,x_fixedPointIteration,y_fixedPointIteration, \"x\", \"f(x)\")"
      ],
      "execution_count": null,
      "outputs": [
        {
          "output_type": "stream",
          "text": [
            "Valor da raíz é: 1.13427\n",
            "Quantidade de interações: 9\n"
          ],
          "name": "stdout"
        },
        {
          "output_type": "display_data",
          "data": {
            "image/png": "[encoded data removed]",
            "text/plain": [
              "<Figure size 432x288 with 1 Axes>"
            ]
          },
          "metadata": {
            "tags": [],
            "needs_background": "light"
          }
        }
      ]
    },
    {
      "cell_type": "markdown",
      "metadata": {
        "id": "uXcykUhwGept"
      },
      "source": [
        "#Método de Newton-Raphson"
      ]
    },
    {
      "cell_type": "code",
      "metadata": {
        "id": "GCYz5HD_GhQz"
      },
      "source": [
        "#disponivel em https://www.geeksforgeeks.org/program-for-newton-raphson-method/\n",
        "\n",
        "def newtonRaphson(x = 3, e = 0.001, func = f):\n",
        "  vetor = []\n",
        "  qtd_inter = 0\n",
        "  h = func(x)/((3*(x**2)) - (6*x))\n",
        "  while abs(h) >= e:\n",
        "    h = func(x)/((3*(x**2)) - (6*x))\n",
        "    x = x - h\n",
        "    qtd_inter += 1\n",
        "    vetor.append(x)\n",
        "  print(\"Valor da raíz é: {:.5f}\".format(x))\n",
        "  print(\"Quantidade de interações: {}\".format(qtd_inter))\n",
        "  return vetor\n"
      ],
      "execution_count": null,
      "outputs": []
    },
    {
      "cell_type": "code",
      "metadata": {
        "colab": {
          "base_uri": "https://localhost:8080/",
          "height": 313
        },
        "id": "yHYVIC96bAFK",
        "outputId": "db404e7a-3edb-44f3-958d-b92edf10d4bd"
      },
      "source": [
        "x_newtonRaphson = newtonRaphson()\n",
        "y_newtonRaphson = [f(i) for i in x_newtonRaphson]\n",
        "plot2(x_vetor,y_vetor,x_falsePosition,y_falsePosition, \"x\", \"f(x)\")"
      ],
      "execution_count": null,
      "outputs": [
        {
          "output_type": "stream",
          "text": [
            "Valor da raíz é: 2.66108\n",
            "Quantidade de interações: 4\n"
          ],
          "name": "stdout"
        },
        {
          "output_type": "display_data",
          "data": {
            "image/png": "[encoded data removed]",
            "text/plain": [
              "<Figure size 432x288 with 1 Axes>"
            ]
          },
          "metadata": {
            "tags": [],
            "needs_background": "light"
          }
        }
      ]
    },
    {
      "cell_type": "markdown",
      "metadata": {
        "id": "65lKlVAakxpf"
      },
      "source": [
        "#Verificando Raízes"
      ]
    },
    {
      "cell_type": "code",
      "metadata": {
        "colab": {
          "base_uri": "https://localhost:8080/"
        },
        "id": "ecDwyeA2k3yc",
        "outputId": "6c971709-9f03-40dd-be39-3b5542585d1c"
      },
      "source": [
        "#@title Método da Bissecção\n",
        "print(\"O valor de f(x) para a raíz obtida neste método é \", f(2.66113))"
      ],
      "execution_count": null,
      "outputs": [
        {
          "output_type": "stream",
          "text": [
            "O valor de f(x) para a raíz obtida neste método é  0.00025384440489295557\n"
          ],
          "name": "stdout"
        }
      ]
    },
    {
      "cell_type": "code",
      "metadata": {
        "colab": {
          "base_uri": "https://localhost:8080/"
        },
        "id": "juhnN3LPk6Xf",
        "outputId": "58f55362-3d96-4c46-81d1-1b61004c9e69"
      },
      "source": [
        "#@title Método da Posição Falsa\n",
        "print(\"O valor de f(x) para a raíz obtida neste método é \", f(2.66099))"
      ],
      "execution_count": null,
      "outputs": [
        {
          "output_type": "stream",
          "text": [
            "O valor de f(x) para a raíz obtida neste método é  -0.0004849861317013371\n"
          ],
          "name": "stdout"
        }
      ]
    },
    {
      "cell_type": "code",
      "metadata": {
        "colab": {
          "base_uri": "https://localhost:8080/"
        },
        "id": "HCWQUqEAk65B",
        "outputId": "f71a0301-e3b6-4d1a-84ea-6e16944c2935"
      },
      "source": [
        "#@title Método Ponto Fixo\n",
        "print(\"O valor de f(x) para a raíz obtida neste método é \", f(1.13427))"
      ],
      "execution_count": null,
      "outputs": [
        {
          "output_type": "stream",
          "text": [
            "O valor de f(x) para a raíz obtida neste método é  -0.0003893223145170488\n"
          ],
          "name": "stdout"
        }
      ]
    },
    {
      "cell_type": "code",
      "metadata": {
        "colab": {
          "base_uri": "https://localhost:8080/"
        },
        "id": "RdmlT5yKk7Jr",
        "outputId": "bf079c68-d271-44f6-8a7a-845135bb2e77"
      },
      "source": [
        "#@title Método de Newton-Raphson\n",
        "print(\"O valor de f(x) para a raíz obtida neste método é \", f(2.66108))"
      ],
      "execution_count": null,
      "outputs": [
        {
          "output_type": "stream",
          "text": [
            "O valor de f(x) para a raíz obtida neste método é  -1.0046068288804832e-05\n"
          ],
          "name": "stdout"
        }
      ]
    }
  ]
}